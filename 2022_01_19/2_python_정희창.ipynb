{
 "cells": [
  {
   "cell_type": "markdown",
   "id": "02aac403",
   "metadata": {},
   "source": [
    "# 전화번호 목록"
   ]
  },
  {
   "cell_type": "markdown",
   "id": "97a25ba0",
   "metadata": {},
   "source": [
    "내풀이 -> 다 시간초과 실패..."
   ]
  },
  {
   "cell_type": "code",
   "execution_count": 12,
   "id": "0ee81712",
   "metadata": {},
   "outputs": [],
   "source": [
    "\n",
    "def solution(phoneBook):\n",
    "    answer = True\n",
    "    for x in phoneBook:\n",
    "        for y in phoneBook:\n",
    "            if y != x:\n",
    "                if y.find(x) == 0:\n",
    "                    return False\n",
    "    return answer"
   ]
  },
  {
   "cell_type": "markdown",
   "id": "0049ad95",
   "metadata": {},
   "source": [
    "다른사람풀이"
   ]
  },
  {
   "cell_type": "code",
   "execution_count": 14,
   "id": "6341a047",
   "metadata": {},
   "outputs": [],
   "source": [
    "def solution(phoneBook):\n",
    "    phoneBook = sorted(phoneBook)\n",
    "\n",
    "    for p1, p2 in zip(phoneBook, phoneBook[1:]):\n",
    "        if p2.startswith(p1):\n",
    "            return False\n",
    "    return True"
   ]
  },
  {
   "cell_type": "code",
   "execution_count": null,
   "id": "7e505d0e",
   "metadata": {},
   "outputs": [],
   "source": []
  }
 ],
 "metadata": {
  "kernelspec": {
   "display_name": "Python 3",
   "language": "python",
   "name": "python3"
  },
  "language_info": {
   "codemirror_mode": {
    "name": "ipython",
    "version": 3
   },
   "file_extension": ".py",
   "mimetype": "text/x-python",
   "name": "python",
   "nbconvert_exporter": "python",
   "pygments_lexer": "ipython3",
   "version": "3.8.8"
  }
 },
 "nbformat": 4,
 "nbformat_minor": 5
}
