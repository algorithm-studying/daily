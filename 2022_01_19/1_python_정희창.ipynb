{
 "cells": [
  {
   "cell_type": "markdown",
   "id": "ea30c39c",
   "metadata": {},
   "source": [
    "# 이상한 문자 만들기"
   ]
  },
  {
   "cell_type": "markdown",
   "id": "eb3fa8cf",
   "metadata": {},
   "source": [
    "내풀이"
   ]
  },
  {
   "cell_type": "code",
   "execution_count": 1,
   "id": "42191d88",
   "metadata": {},
   "outputs": [],
   "source": [
    "def solution(s):\n",
    "    t = []\n",
    "\n",
    "    answer=s.split(' ')\n",
    "    for i in answer:\n",
    "        for j in range(len(i)):\n",
    "            if j % 2 == 0:\n",
    "                t.append(i[j].upper())\n",
    "            else:\n",
    "                t.append(i[j].lower())\n",
    "        t.append(\" \")\n",
    "        a=''.join(t)\n",
    "    return a[:-1]"
   ]
  }
 ],
 "metadata": {
  "kernelspec": {
   "display_name": "Python 3",
   "language": "python",
   "name": "python3"
  },
  "language_info": {
   "codemirror_mode": {
    "name": "ipython",
    "version": 3
   },
   "file_extension": ".py",
   "mimetype": "text/x-python",
   "name": "python",
   "nbconvert_exporter": "python",
   "pygments_lexer": "ipython3",
   "version": "3.8.8"
  }
 },
 "nbformat": 4,
 "nbformat_minor": 5
}
