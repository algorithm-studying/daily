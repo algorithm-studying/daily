{
 "cells": [
  {
   "cell_type": "markdown",
   "id": "23011155",
   "metadata": {},
   "source": [
    "# 레벨 1 로또의 최고 순위와 최저 순위"
   ]
  },
  {
   "cell_type": "code",
   "execution_count": 2,
   "id": "ad6df363",
   "metadata": {},
   "outputs": [],
   "source": [
    "def solution(lottos, win_nums):\n",
    "    answer = []\n",
    "    count = 7\n",
    "    \n",
    "\n",
    "    for i in lottos:\n",
    "        if i == 0: count -= 1\n",
    "        elif i in win_nums: count -= 1\n",
    "    if count > 6: answer.append(6)\n",
    "    else : answer.append(count)\n",
    "    count = 7\n",
    "\n",
    "    for j in lottos:\n",
    "        if j in win_nums: count -= 1\n",
    "    if count > 6: answer.append(6)\n",
    "    else : answer.append(count)\n",
    "    \n",
    "    return answer"
   ]
  },
  {
   "cell_type": "code",
   "execution_count": null,
   "id": "bd94f04b",
   "metadata": {},
   "outputs": [],
   "source": []
  }
 ],
 "metadata": {
  "kernelspec": {
   "display_name": "Python 3",
   "language": "python",
   "name": "python3"
  },
  "language_info": {
   "codemirror_mode": {
    "name": "ipython",
    "version": 3
   },
   "file_extension": ".py",
   "mimetype": "text/x-python",
   "name": "python",
   "nbconvert_exporter": "python",
   "pygments_lexer": "ipython3",
   "version": "3.8.8"
  }
 },
 "nbformat": 4,
 "nbformat_minor": 5
}
