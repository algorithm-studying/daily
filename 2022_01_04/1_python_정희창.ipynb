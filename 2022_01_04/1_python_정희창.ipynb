{
 "cells": [
  {
   "cell_type": "markdown",
   "id": "8a7cac7c",
   "metadata": {},
   "source": [
    "# 레벨 1 최소직사각형"
   ]
  },
  {
   "cell_type": "markdown",
   "id": "fc4191fd",
   "metadata": {},
   "source": [
    "내풀이"
   ]
  },
  {
   "cell_type": "code",
   "execution_count": 16,
   "id": "a4323fee",
   "metadata": {},
   "outputs": [],
   "source": [
    "def solution(sizes):\n",
    "    for arr in sizes:\n",
    "        if arr[0] > arr[1]:\n",
    "            pass\n",
    "        elif arr[0] < arr[1]:\n",
    "            arr[0],arr[1] = arr[1],arr[0]\n",
    "    width = []\n",
    "    height = []\n",
    "    for i, j in sizes:\n",
    "        width.append(i)\n",
    "        height.append(j)\n",
    "    answer = max(width)*max(height)\n",
    "    print(answer)"
   ]
  },
  {
   "cell_type": "markdown",
   "id": "5aeac8bf",
   "metadata": {},
   "source": [
    "다른사람풀이"
   ]
  },
  {
   "cell_type": "code",
   "execution_count": 18,
   "id": "45cf818d",
   "metadata": {},
   "outputs": [],
   "source": [
    "def solution(sizes):\n",
    "    return max(max(x) for x in sizes) * max(min(x) for x in sizes)"
   ]
  },
  {
   "cell_type": "code",
   "execution_count": 17,
   "id": "511c1c15",
   "metadata": {},
   "outputs": [
    {
     "name": "stdout",
     "output_type": "stream",
     "text": [
      "60 50\n",
      "30 70\n",
      "60 30\n",
      "80 40\n",
      "4000\n"
     ]
    }
   ],
   "source": [
    "\n",
    "def main():\n",
    "    sizes = [list(map(int, input().split())) for _ in range(4)]\n",
    "    solution(sizes)\n",
    "    \n",
    "    \n",
    "if __name__ == \"__main__\":\n",
    "    main()"
   ]
  },
  {
   "cell_type": "code",
   "execution_count": null,
   "id": "ea2d3622",
   "metadata": {},
   "outputs": [],
   "source": []
  },
  {
   "cell_type": "code",
   "execution_count": null,
   "id": "8a51f974",
   "metadata": {},
   "outputs": [],
   "source": []
  }
 ],
 "metadata": {
  "kernelspec": {
   "display_name": "Python 3",
   "language": "python",
   "name": "python3"
  },
  "language_info": {
   "codemirror_mode": {
    "name": "ipython",
    "version": 3
   },
   "file_extension": ".py",
   "mimetype": "text/x-python",
   "name": "python",
   "nbconvert_exporter": "python",
   "pygments_lexer": "ipython3",
   "version": "3.8.8"
  }
 },
 "nbformat": 4,
 "nbformat_minor": 5
}
