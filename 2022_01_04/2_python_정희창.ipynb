{
 "cells": [
  {
   "cell_type": "markdown",
   "id": "420432f5",
   "metadata": {},
   "source": [
    "# 레벨3 등굣길"
   ]
  },
  {
   "cell_type": "markdown",
   "id": "aab59655",
   "metadata": {},
   "source": [
    "내풀이"
   ]
  },
  {
   "cell_type": "code",
   "execution_count": 8,
   "id": "223a3471",
   "metadata": {},
   "outputs": [],
   "source": [
    "from collections import deque\n",
    "\n",
    "def solution(m, n, puddles):\n",
    "    answer = 0\n",
    "    q = deque([])\n",
    "    dx = (1,0)\n",
    "    dy = (0,1)\n",
    "    map = [[0]*m for _ in range(n)]\n",
    "    map[0][0] = 1\n",
    "    q.append((0,0))\n",
    "    while q:\n",
    "        x,y = q.popleft()\n",
    "        for r in range(2):\n",
    "            nx = x + dx[r]\n",
    "            ny = y + dy[r]\n",
    "            if 0<= nx < n and 0 <= ny < m:\n",
    "                if[ny+1,nx+1] in puddles:\n",
    "                    continue\n",
    "                map[nx][ny]+= map[x][y]\n",
    "                if (nx,ny) not in q:\n",
    "                    q.append((nx,ny))\n",
    "    answer = map[n-1][m-1]\n",
    "    return  answer%1000000007"
   ]
  },
  {
   "cell_type": "code",
   "execution_count": 9,
   "id": "f8b116ac",
   "metadata": {},
   "outputs": [
    {
     "data": {
      "text/plain": [
       "4"
      ]
     },
     "execution_count": 9,
     "metadata": {},
     "output_type": "execute_result"
    }
   ],
   "source": [
    "solution(4,3,[[2,2]])"
   ]
  },
  {
   "cell_type": "markdown",
   "id": "b55f9e91",
   "metadata": {},
   "source": [
    "다른사람풀이"
   ]
  },
  {
   "cell_type": "code",
   "execution_count": 7,
   "id": "28e5d429",
   "metadata": {},
   "outputs": [],
   "source": [
    "\n",
    "def solution(m,n,puddles):\n",
    "    grid = [[0]*(m+1) for i in range(n+1)] #왼쪽, 위로 한줄씩 만들어서 IndexError 방지\n",
    "    if puddles != [[]]:                    #물이 잠긴 지역이 0일 수 있음\n",
    "        for a, b in puddles:\n",
    "            grid[b][a] = -1                #미리 -1로 체크\n",
    "    grid[1][1] = 1\n",
    "    for j in range(1,n+1):\n",
    "        for k in range(1,m+1):\n",
    "            if j == k == 1:                #(1,1)은 1로 만들어두고, 0이 되지 않도록\n",
    "                continue\n",
    "            if grid[j][k] == -1:           #웅덩이는 0으로 만들어 다음 덧셈 때 영향끼치지 않게\n",
    "                grid[j][k] = 0\n",
    "                continue\n",
    "            grid[j][k] = (grid[j][k-1] + grid[j-1][k])%1000000007   #[a,b] = [a-1,b] + [a,b-1] 공식\n",
    "\n",
    "    return grid[n][m]"
   ]
  },
  {
   "cell_type": "code",
   "execution_count": null,
   "id": "6be1ef89",
   "metadata": {},
   "outputs": [],
   "source": []
  }
 ],
 "metadata": {
  "kernelspec": {
   "display_name": "Python 3",
   "language": "python",
   "name": "python3"
  },
  "language_info": {
   "codemirror_mode": {
    "name": "ipython",
    "version": 3
   },
   "file_extension": ".py",
   "mimetype": "text/x-python",
   "name": "python",
   "nbconvert_exporter": "python",
   "pygments_lexer": "ipython3",
   "version": "3.8.8"
  }
 },
 "nbformat": 4,
 "nbformat_minor": 5
}
