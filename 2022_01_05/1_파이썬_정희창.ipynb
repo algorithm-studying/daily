{
 "cells": [
  {
   "cell_type": "markdown",
   "id": "2892f2d8",
   "metadata": {},
   "source": [
    " # 레벨 1 k번째 수"
   ]
  },
  {
   "cell_type": "markdown",
   "id": "81dcdce6",
   "metadata": {},
   "source": [
    "내풀이"
   ]
  },
  {
   "cell_type": "code",
   "execution_count": 1,
   "id": "d3738595",
   "metadata": {},
   "outputs": [],
   "source": [
    "def solution(array, commands):\n",
    "    q = []\n",
    "    answer = []\n",
    "    for t in commands:\n",
    "        \n",
    "        \n",
    "        answer = array[t[0]-1:t[1]]\n",
    "        answer.sort()\n",
    "        p=answer[t[2]-1]\n",
    "        q.append(p)\n",
    "        \n",
    "    \n",
    "    return q"
   ]
  },
  {
   "cell_type": "code",
   "execution_count": null,
   "id": "2f320664",
   "metadata": {},
   "outputs": [],
   "source": []
  }
 ],
 "metadata": {
  "kernelspec": {
   "display_name": "Python 3",
   "language": "python",
   "name": "python3"
  },
  "language_info": {
   "codemirror_mode": {
    "name": "ipython",
    "version": 3
   },
   "file_extension": ".py",
   "mimetype": "text/x-python",
   "name": "python",
   "nbconvert_exporter": "python",
   "pygments_lexer": "ipython3",
   "version": "3.8.8"
  }
 },
 "nbformat": 4,
 "nbformat_minor": 5
}
