{
 "cells": [
  {
   "cell_type": "markdown",
   "id": "d8ffd1b1",
   "metadata": {},
   "source": [
    "# 2단계 최솟값 만들기"
   ]
  },
  {
   "cell_type": "code",
   "execution_count": 1,
   "id": "ddf40829",
   "metadata": {},
   "outputs": [],
   "source": [
    "def solution(A,B):\n",
    "    answer = 0\n",
    "    A.sort(reverse = True)\n",
    "    B.sort()\n",
    "    for i in range(len(A)):\n",
    "        answer += (A[i]*B[i])\n",
    "    return answer"
   ]
  },
  {
   "cell_type": "code",
   "execution_count": null,
   "id": "660eac4f",
   "metadata": {},
   "outputs": [],
   "source": []
  }
 ],
 "metadata": {
  "kernelspec": {
   "display_name": "Python 3",
   "language": "python",
   "name": "python3"
  },
  "language_info": {
   "codemirror_mode": {
    "name": "ipython",
    "version": 3
   },
   "file_extension": ".py",
   "mimetype": "text/x-python",
   "name": "python",
   "nbconvert_exporter": "python",
   "pygments_lexer": "ipython3",
   "version": "3.8.8"
  }
 },
 "nbformat": 4,
 "nbformat_minor": 5
}
