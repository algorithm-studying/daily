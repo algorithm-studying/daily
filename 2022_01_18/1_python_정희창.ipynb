{
 "cells": [
  {
   "cell_type": "markdown",
   "id": "4b2141fa",
   "metadata": {},
   "source": [
    "# 행렬의 덧셈\n"
   ]
  },
  {
   "cell_type": "markdown",
   "id": "dd642a2d",
   "metadata": {},
   "source": [
    "내풀이"
   ]
  },
  {
   "cell_type": "code",
   "execution_count": 1,
   "id": "543968d8",
   "metadata": {},
   "outputs": [],
   "source": [
    "def solution(arr1, arr2):\n",
    "    answer = []\n",
    "    a = len(arr1)\n",
    "    for i in range(a):\n",
    "        c = [x+y for x,y in zip(arr1[i],arr2[i])]\n",
    "        answer.append(c)\n",
    "    return answer"
   ]
  },
  {
   "cell_type": "markdown",
   "id": "7efdc399",
   "metadata": {},
   "source": [
    "다른사람풀이"
   ]
  },
  {
   "cell_type": "code",
   "execution_count": 2,
   "id": "d342df90",
   "metadata": {},
   "outputs": [],
   "source": [
    "def solution(A,B):\n",
    "    answer = [[c + d for c, d in zip(a, b)] for a, b in zip(A,B)]\n",
    "    return answer"
   ]
  },
  {
   "cell_type": "code",
   "execution_count": null,
   "id": "d3faa1f0",
   "metadata": {},
   "outputs": [],
   "source": []
  }
 ],
 "metadata": {
  "kernelspec": {
   "display_name": "Python 3",
   "language": "python",
   "name": "python3"
  },
  "language_info": {
   "codemirror_mode": {
    "name": "ipython",
    "version": 3
   },
   "file_extension": ".py",
   "mimetype": "text/x-python",
   "name": "python",
   "nbconvert_exporter": "python",
   "pygments_lexer": "ipython3",
   "version": "3.8.8"
  }
 },
 "nbformat": 4,
 "nbformat_minor": 5
}
