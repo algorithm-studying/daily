{
 "cells": [
  {
   "cell_type": "markdown",
   "id": "70afe25a",
   "metadata": {},
   "source": [
    "# 하샤드 수"
   ]
  },
  {
   "cell_type": "markdown",
   "id": "975f9ddf",
   "metadata": {},
   "source": [
    "내풀이\n"
   ]
  },
  {
   "cell_type": "code",
   "execution_count": 2,
   "id": "8b90bcc3",
   "metadata": {},
   "outputs": [],
   "source": [
    "def solution(x):\n",
    "\n",
    "    s = str(x)\n",
    "    add = 0\n",
    "    for i in s:\n",
    "        add += int(i)\n",
    "    if x%add == 0:\n",
    "        return True\n",
    "    else:\n",
    "        return False"
   ]
  },
  {
   "cell_type": "markdown",
   "id": "6c652f67",
   "metadata": {},
   "source": [
    "다른사람풀이"
   ]
  },
  {
   "cell_type": "code",
   "execution_count": 3,
   "id": "ebdfba3e",
   "metadata": {},
   "outputs": [],
   "source": [
    "def solution(x):\n",
    "    return x % sum([int(c) for c in str(x)]) == 0\n",
    "    "
   ]
  },
  {
   "cell_type": "code",
   "execution_count": null,
   "id": "86ba485c",
   "metadata": {},
   "outputs": [],
   "source": []
  }
 ],
 "metadata": {
  "kernelspec": {
   "display_name": "Python 3",
   "language": "python",
   "name": "python3"
  },
  "language_info": {
   "codemirror_mode": {
    "name": "ipython",
    "version": 3
   },
   "file_extension": ".py",
   "mimetype": "text/x-python",
   "name": "python",
   "nbconvert_exporter": "python",
   "pygments_lexer": "ipython3",
   "version": "3.8.8"
  }
 },
 "nbformat": 4,
 "nbformat_minor": 5
}
