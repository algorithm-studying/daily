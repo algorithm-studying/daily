{
 "cells": [
  {
   "cell_type": "markdown",
   "id": "a7e36491",
   "metadata": {},
   "source": [
    "# 레벨 2 멀쩡한 사각형"
   ]
  },
  {
   "cell_type": "markdown",
   "id": "2e911f09",
   "metadata": {},
   "source": [
    "내풀이"
   ]
  },
  {
   "cell_type": "code",
   "execution_count": 12,
   "id": "9094c191",
   "metadata": {},
   "outputs": [],
   "source": [
    "from math import gcd\n",
    "\n",
    "\n",
    "def solution(w,h):\n",
    "    answer = w*h - (w+h-gcd(w,h))\n",
    "\n",
    "        \n",
    "    print(answer)\n",
    "\n"
   ]
  },
  {
   "cell_type": "markdown",
   "id": "879bc4de",
   "metadata": {},
   "source": [
    "다른사람풀이"
   ]
  },
  {
   "cell_type": "code",
   "execution_count": 17,
   "id": "0e6f90f2",
   "metadata": {},
   "outputs": [],
   "source": [
    "def gcd(a,b): return b if (a==0) else gcd(b%a,a)    \n",
    "def solution2(w,h): return w*h-w-h+gcd(w,h)\n",
    "\n"
   ]
  },
  {
   "cell_type": "markdown",
   "id": "f4fef4ea",
   "metadata": {},
   "source": [
    "메인문"
   ]
  },
  {
   "cell_type": "code",
   "execution_count": 15,
   "id": "746d82b5",
   "metadata": {},
   "outputs": [
    {
     "name": "stdout",
     "output_type": "stream",
     "text": [
      "8 12\n",
      "80\n"
     ]
    }
   ],
   "source": [
    "def main():\n",
    "    w, h =map(int,input().split())\n",
    "    return solution(w,h)\n",
    "if __name__ == \"__main__\":\n",
    "    main()"
   ]
  },
  {
   "cell_type": "code",
   "execution_count": null,
   "id": "3f2b682d",
   "metadata": {},
   "outputs": [],
   "source": []
  }
 ],
 "metadata": {
  "kernelspec": {
   "display_name": "Python 3",
   "language": "python",
   "name": "python3"
  },
  "language_info": {
   "codemirror_mode": {
    "name": "ipython",
    "version": 3
   },
   "file_extension": ".py",
   "mimetype": "text/x-python",
   "name": "python",
   "nbconvert_exporter": "python",
   "pygments_lexer": "ipython3",
   "version": "3.8.8"
  }
 },
 "nbformat": 4,
 "nbformat_minor": 5
}
