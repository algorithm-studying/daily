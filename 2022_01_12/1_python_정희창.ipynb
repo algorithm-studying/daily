{
 "cells": [
  {
   "cell_type": "markdown",
   "id": "9e3e321c",
   "metadata": {},
   "source": [
    "다른사람풀이"
   ]
  },
  {
   "cell_type": "code",
   "execution_count": 2,
   "id": "80614cd9",
   "metadata": {},
   "outputs": [],
   "source": [
    "import collections\n",
    "\n",
    "def solution(participant, completion):\n",
    "    answer = collections.Counter(participnat) - collections.Counter(completion)\n",
    "    return list(answer.keys())[0]"
   ]
  },
  {
   "cell_type": "markdown",
   "id": "231345bf",
   "metadata": {},
   "source": [
    "내풀이"
   ]
  },
  {
   "cell_type": "code",
   "execution_count": 1,
   "id": "3ea0c708",
   "metadata": {},
   "outputs": [],
   "source": [
    "def solution(participant, completion):\n",
    "    participant_set = set(participant)\n",
    "    completion_set = set(completion)\n",
    "    result = list(participant_set - completion_set)\n",
    "    if result !=[]:\n",
    "        return result[0]\n",
    "    else:\n",
    "        for c in completion:\n",
    "            a=completion.count(c)\n",
    "            b=participant.count(c)\n",
    "            if(a != b):\n",
    "                return c\n",
    "    return None\n",
    "\n"
   ]
  },
  {
   "cell_type": "code",
   "execution_count": null,
   "id": "2a5af745",
   "metadata": {},
   "outputs": [],
   "source": []
  }
 ],
 "metadata": {
  "kernelspec": {
   "display_name": "Python 3",
   "language": "python",
   "name": "python3"
  },
  "language_info": {
   "codemirror_mode": {
    "name": "ipython",
    "version": 3
   },
   "file_extension": ".py",
   "mimetype": "text/x-python",
   "name": "python",
   "nbconvert_exporter": "python",
   "pygments_lexer": "ipython3",
   "version": "3.8.8"
  }
 },
 "nbformat": 4,
 "nbformat_minor": 5
}
