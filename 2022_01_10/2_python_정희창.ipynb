{
 "cells": [
  {
   "cell_type": "markdown",
   "id": "8e18ef67",
   "metadata": {},
   "source": [
    "# 레벨2 124 나라의 숫자"
   ]
  },
  {
   "cell_type": "code",
   "execution_count": 1,
   "id": "4ca504e4",
   "metadata": {},
   "outputs": [],
   "source": [
    "\n",
    "def solution(n):\n",
    "    nums = [1, 2, 4]\n",
    "    answer = ''\n",
    "    while (n > 0):\n",
    "        n -= 1\n",
    "        answer = str(nums[n % 3]) + answer\n",
    "        n = n // 3\n",
    "    return answer"
   ]
  },
  {
   "cell_type": "code",
   "execution_count": null,
   "id": "2b1206ff",
   "metadata": {},
   "outputs": [],
   "source": []
  }
 ],
 "metadata": {
  "kernelspec": {
   "display_name": "Python 3",
   "language": "python",
   "name": "python3"
  },
  "language_info": {
   "codemirror_mode": {
    "name": "ipython",
    "version": 3
   },
   "file_extension": ".py",
   "mimetype": "text/x-python",
   "name": "python",
   "nbconvert_exporter": "python",
   "pygments_lexer": "ipython3",
   "version": "3.8.8"
  }
 },
 "nbformat": 4,
 "nbformat_minor": 5
}
