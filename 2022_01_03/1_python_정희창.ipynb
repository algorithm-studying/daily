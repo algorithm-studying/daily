{
 "cells": [
  {
   "cell_type": "markdown",
   "id": "c50a85d9",
   "metadata": {},
   "source": [
    "# 레벨 1 없는 숫자 더하기\n"
   ]
  },
  {
   "cell_type": "markdown",
   "id": "d82a02ee",
   "metadata": {},
   "source": [
    "내풀이"
   ]
  },
  {
   "cell_type": "code",
   "execution_count": 9,
   "id": "84d6ab7e",
   "metadata": {},
   "outputs": [],
   "source": [
    "def solution1(numbers):\n",
    "    arr = [0,1,2,3,4,5,6,7,8,9]\n",
    "    no = []\n",
    "    for i in arr:\n",
    "        if i not in numbers:\n",
    "            no.append(i)\n",
    "    answer=sum(no)\n",
    "        \n",
    "    print(answer)\n"
   ]
  },
  {
   "cell_type": "markdown",
   "id": "ede68b88",
   "metadata": {},
   "source": [
    "다른사람 풀이"
   ]
  },
  {
   "cell_type": "code",
   "execution_count": null,
   "id": "373e7f1c",
   "metadata": {},
   "outputs": [],
   "source": [
    "def solution2(numbers):\n",
    "    return 45 - sum(numbers)"
   ]
  },
  {
   "cell_type": "markdown",
   "id": "c67078ab",
   "metadata": {},
   "source": [
    "메인문"
   ]
  },
  {
   "cell_type": "code",
   "execution_count": 25,
   "id": "d1b450e5",
   "metadata": {},
   "outputs": [
    {
     "name": "stdout",
     "output_type": "stream",
     "text": [
      "1 2 3 4 6 7 8 0\n",
      "14\n"
     ]
    }
   ],
   "source": [
    "def main():\n",
    "    numbers = list(map(int,input().split()))\n",
    "    return solution1(numbers)\n",
    "    \n",
    "if __name__ == \"__main__\":\n",
    "    main()"
   ]
  },
  {
   "cell_type": "code",
   "execution_count": null,
   "id": "955b06d2",
   "metadata": {},
   "outputs": [],
   "source": []
  }
 ],
 "metadata": {
  "kernelspec": {
   "display_name": "Python 3",
   "language": "python",
   "name": "python3"
  },
  "language_info": {
   "codemirror_mode": {
    "name": "ipython",
    "version": 3
   },
   "file_extension": ".py",
   "mimetype": "text/x-python",
   "name": "python",
   "nbconvert_exporter": "python",
   "pygments_lexer": "ipython3",
   "version": "3.8.8"
  }
 },
 "nbformat": 4,
 "nbformat_minor": 5
}
