{
 "cells": [
  {
   "cell_type": "markdown",
   "id": "cf723f8a",
   "metadata": {},
   "source": [
    "# 예산"
   ]
  },
  {
   "cell_type": "markdown",
   "id": "84508842",
   "metadata": {},
   "source": [
    "내풀이"
   ]
  },
  {
   "cell_type": "code",
   "execution_count": 1,
   "id": "28e00685",
   "metadata": {},
   "outputs": [],
   "source": [
    "def solution(d, budget):\n",
    "    s = 0\n",
    "    j = 0\n",
    "    d.sort()\n",
    "\n",
    "    for i in range(len(d)):\n",
    "        s += d[i]\n",
    "        if s > budget:\n",
    "            break\n",
    "        else:\n",
    "            j += 1"
   ]
  },
  {
   "cell_type": "markdown",
   "id": "4db33009",
   "metadata": {},
   "source": [
    "다른 사람풀이"
   ]
  },
  {
   "cell_type": "code",
   "execution_count": 3,
   "id": "f885d8f6",
   "metadata": {},
   "outputs": [],
   "source": [
    "def solution(d, budget):\n",
    "    d.sort()\n",
    "    while budget < sum(d):\n",
    "        d.pop()\n",
    "    return len(d)"
   ]
  },
  {
   "cell_type": "code",
   "execution_count": null,
   "id": "27359548",
   "metadata": {},
   "outputs": [],
   "source": []
  }
 ],
 "metadata": {
  "kernelspec": {
   "display_name": "Python 3",
   "language": "python",
   "name": "python3"
  },
  "language_info": {
   "codemirror_mode": {
    "name": "ipython",
    "version": 3
   },
   "file_extension": ".py",
   "mimetype": "text/x-python",
   "name": "python",
   "nbconvert_exporter": "python",
   "pygments_lexer": "ipython3",
   "version": "3.8.8"
  }
 },
 "nbformat": 4,
 "nbformat_minor": 5
}
